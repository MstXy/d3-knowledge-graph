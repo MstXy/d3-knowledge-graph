{
 "cells": [
  {
   "cell_type": "code",
   "execution_count": 78,
   "metadata": {},
   "outputs": [],
   "source": [
    "import pandas as pd\n",
    "import numpy as np\n",
    "import json"
   ]
  },
  {
   "cell_type": "code",
   "execution_count": 79,
   "metadata": {},
   "outputs": [],
   "source": [
    "output_dict = {\"nodes\":[], \"links\":[]}"
   ]
  },
  {
   "cell_type": "code",
   "execution_count": 80,
   "metadata": {},
   "outputs": [],
   "source": [
    "rels = pd.read_csv(\"test_data1.csv\", encoding=\"utf-8\")\n",
    "all_rels = []\n",
    "all_entities = []\n",
    "for index, row in rels.iterrows():\n",
    "    r = row[\"relation\"]\n",
    "    if r not in all_rels: all_rels.append(r)\n",
    "    new_d = {\"source\":row[\"subject\"], \"target\":row[\"object\"], \"value\":all_rels.index(r)+1, \"relations\":r}\n",
    "    all_entities.append(row[\"subject\"])\n",
    "    all_entities.append(row[\"object\"])\n",
    "    output_dict[\"links\"].append(new_d)"
   ]
  },
  {
   "cell_type": "code",
   "execution_count": 81,
   "metadata": {},
   "outputs": [],
   "source": [
    "df_size = pd.read_csv(\"gravity.csv\", encoding=\"utf-8\")\n",
    "df_size[\"influence\"] = round(np.power(df_size[\"influence\"], 1/3), 2) + 2.0"
   ]
  },
  {
   "cell_type": "code",
   "execution_count": 82,
   "metadata": {},
   "outputs": [],
   "source": [
    "with open(\"label_data.json\", encoding=\"utf-8\") as f:\n",
    "    d = json.load(f)\n",
    "    for k,v in d.items():\n",
    "        if k in all_entities:\n",
    "            s = df_size[df_size[\"item\"] == k][\"influence\"].values[0]\n",
    "            output_dict[\"nodes\"].append({\"id\": k, \"group\":v, \"size\": s}) "
   ]
  },
  {
   "cell_type": "code",
   "execution_count": 83,
   "metadata": {},
   "outputs": [],
   "source": [
    "with open(\"data.json\", \"w\", encoding=\"utf-8\") as outfile:\n",
    "    json.dump(output_dict, outfile, ensure_ascii=False)"
   ]
  }
 ],
 "metadata": {
  "kernelspec": {
   "display_name": "base",
   "language": "python",
   "name": "python3"
  },
  "language_info": {
   "codemirror_mode": {
    "name": "ipython",
    "version": 3
   },
   "file_extension": ".py",
   "mimetype": "text/x-python",
   "name": "python",
   "nbconvert_exporter": "python",
   "pygments_lexer": "ipython3",
   "version": "3.9.13"
  },
  "orig_nbformat": 4,
  "vscode": {
   "interpreter": {
    "hash": "ad2bdc8ecc057115af97d19610ffacc2b4e99fae6737bb82f5d7fb13d2f2c186"
   }
  }
 },
 "nbformat": 4,
 "nbformat_minor": 2
}
